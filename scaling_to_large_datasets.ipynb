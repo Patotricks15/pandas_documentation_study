{
 "cells": [
  {
   "cell_type": "code",
   "execution_count": 1,
   "metadata": {},
   "outputs": [],
   "source": [
    "import pandas as pd\n",
    "\n",
    "import numpy as np\n",
    "\n",
    "def make_timeseries(start=\"2000-01-01\", end=\"2000-12-31\", freq=\"1D\", seed=None):\n",
    "    index = pd.date_range(start=start, end=end, freq=freq, name=\"timestamp\")\n",
    "    n = len(index)\n",
    "    state = np.random.RandomState(seed)\n",
    "    columns = {\n",
    "        \"name\": state.choice([\"Alice\", \"Bob\", \"Charlie\"], size=n),\n",
    "        \"id\": state.poisson(1000, size=n),\n",
    "        \"x\": state.rand(n) * 2 - 1,\n",
    "        \"y\": state.rand(n) * 2 - 1,\n",
    "    }\n",
    "    df = pd.DataFrame(columns, index=index, columns=sorted(columns))\n",
    "    if df.index[-1] == end:\n",
    "        df = df.iloc[:-1]\n",
    "    return df"
   ]
  },
  {
   "cell_type": "code",
   "execution_count": 2,
   "metadata": {},
   "outputs": [],
   "source": [
    "ts = make_timeseries(freq=\"30s\", seed=0)\n",
    "\n",
    "ts.to_parquet(\"timeseries.parquet\")\n",
    "\n",
    "ts = pd.read_parquet(\"timeseries.parquet\")"
   ]
  },
  {
   "cell_type": "code",
   "execution_count": 3,
   "metadata": {},
   "outputs": [
    {
     "data": {
      "application/vnd.microsoft.datawrangler.viewer.v0+json": {
       "columns": [
        {
         "name": "timestamp",
         "rawType": "datetime64[ns]",
         "type": "datetime"
        },
        {
         "name": "id",
         "rawType": "int64",
         "type": "integer"
        },
        {
         "name": "name",
         "rawType": "object",
         "type": "string"
        },
        {
         "name": "x",
         "rawType": "float64",
         "type": "float"
        },
        {
         "name": "y",
         "rawType": "float64",
         "type": "float"
        }
       ],
       "conversionMethod": "pd.DataFrame",
       "ref": "a609a4a5-1dae-4804-8f9b-7575d39e118d",
       "rows": [
        [
         "2000-01-01 00:00:00",
         "1041",
         "Alice",
         "0.8899871522335667",
         "0.28101116780965074"
        ],
        [
         "2000-01-01 00:00:30",
         "988",
         "Bob",
         "-0.45529902733092276",
         "0.48815347568259515"
        ],
        [
         "2000-01-01 00:01:00",
         "1018",
         "Alice",
         "0.09606087209304204",
         "0.5804725652017184"
        ],
        [
         "2000-01-01 00:01:30",
         "992",
         "Bob",
         "0.14248223168020901",
         "0.041665253325999796"
        ],
        [
         "2000-01-01 00:02:00",
         "960",
         "Bob",
         "-0.03623481813487772",
         "0.8021591964015671"
        ],
        [
         "2000-01-01 00:02:30",
         "974",
         "Charlie",
         "0.27963673124668076",
         "-0.6502587973629783"
        ],
        [
         "2000-01-01 00:03:00",
         "975",
         "Alice",
         "0.27347358491676443",
         "-0.617293425913024"
        ],
        [
         "2000-01-01 00:03:30",
         "1002",
         "Charlie",
         "0.5530173405703185",
         "0.516354277347844"
        ],
        [
         "2000-01-01 00:04:00",
         "1020",
         "Alice",
         "0.7624145867707413",
         "0.550642589481952"
        ],
        [
         "2000-01-01 00:04:30",
         "999",
         "Alice",
         "-0.02714615860148961",
         "-0.023196795592372865"
        ],
        [
         "2000-01-01 00:05:00",
         "1002",
         "Alice",
         "-0.17509488645258564",
         "0.3722186944721533"
        ],
        [
         "2000-01-01 00:05:30",
         "1058",
         "Charlie",
         "-0.294282359293937",
         "-0.08955051597243391"
        ],
        [
         "2000-01-01 00:06:00",
         "966",
         "Bob",
         "0.14926172868997445",
         "0.4897529848391462"
        ],
        [
         "2000-01-01 00:06:30",
         "999",
         "Charlie",
         "0.3551881929088907",
         "-0.30615455517885426"
        ],
        [
         "2000-01-01 00:07:00",
         "903",
         "Charlie",
         "0.193387168959672",
         "0.9453353032665182"
        ],
        [
         "2000-01-01 00:07:30",
         "968",
         "Alice",
         "-0.28158403269816445",
         "-0.7679851341933033"
        ],
        [
         "2000-01-01 00:08:00",
         "1019",
         "Bob",
         "-0.7045511125204977",
         "-0.4674424980938048"
        ],
        [
         "2000-01-01 00:08:30",
         "989",
         "Bob",
         "-0.7170328004358559",
         "0.2171898122165401"
        ],
        [
         "2000-01-01 00:09:00",
         "966",
         "Bob",
         "0.6371765030618335",
         "-0.09869911936062237"
        ],
        [
         "2000-01-01 00:09:30",
         "1007",
         "Bob",
         "0.862675580305263",
         "0.7841714998039089"
        ],
        [
         "2000-01-01 00:10:00",
         "968",
         "Alice",
         "-0.5035974252840101",
         "-0.2573549031726894"
        ],
        [
         "2000-01-01 00:10:30",
         "1052",
         "Bob",
         "-0.7249016442594651",
         "-0.5927305966901615"
        ],
        [
         "2000-01-01 00:11:00",
         "973",
         "Alice",
         "-0.8890731711054898",
         "0.8425251623411407"
        ],
        [
         "2000-01-01 00:11:30",
         "934",
         "Alice",
         "0.44760802290224144",
         "0.7177049641893767"
        ],
        [
         "2000-01-01 00:12:00",
         "992",
         "Bob",
         "-0.14139783644115167",
         "-0.37484800533647666"
        ],
        [
         "2000-01-01 00:12:30",
         "1021",
         "Charlie",
         "-0.4250171847436932",
         "0.638262614834098"
        ],
        [
         "2000-01-01 00:13:00",
         "1006",
         "Alice",
         "0.9484980010782675",
         "-0.7018200612614061"
        ],
        [
         "2000-01-01 00:13:30",
         "976",
         "Charlie",
         "-0.7884555175734227",
         "0.8496229502246915"
        ],
        [
         "2000-01-01 00:14:00",
         "990",
         "Alice",
         "-0.06211641818616509",
         "-0.05817170219735757"
        ],
        [
         "2000-01-01 00:14:30",
         "1002",
         "Bob",
         "0.7251680342887448",
         "-0.8804547957921713"
        ],
        [
         "2000-01-01 00:15:00",
         "949",
         "Bob",
         "-0.12452329250679983",
         "-0.7124276998731958"
        ],
        [
         "2000-01-01 00:15:30",
         "1004",
         "Charlie",
         "-0.2717686403600936",
         "0.866675729332405"
        ],
        [
         "2000-01-01 00:16:00",
         "1007",
         "Alice",
         "0.9205068177545006",
         "-0.33126544593822804"
        ],
        [
         "2000-01-01 00:16:30",
         "993",
         "Bob",
         "-0.5492368299232155",
         "-0.44736611369422996"
        ],
        [
         "2000-01-01 00:17:00",
         "998",
         "Bob",
         "0.9682432624270239",
         "0.4974054503088765"
        ],
        [
         "2000-01-01 00:17:30",
         "966",
         "Bob",
         "0.512934848958863",
         "-0.22121648130127247"
        ],
        [
         "2000-01-01 00:18:00",
         "1003",
         "Alice",
         "0.814507772823496",
         "0.6239621147167087"
        ],
        [
         "2000-01-01 00:18:30",
         "1011",
         "Charlie",
         "0.9324621822017407",
         "-0.23072924743400236"
        ],
        [
         "2000-01-01 00:19:00",
         "980",
         "Alice",
         "0.957522518159241",
         "-0.3289518278067647"
        ],
        [
         "2000-01-01 00:19:30",
         "990",
         "Charlie",
         "0.3011436296503578",
         "0.13639169158615028"
        ],
        [
         "2000-01-01 00:20:00",
         "989",
         "Charlie",
         "-0.4931295196607257",
         "0.21929265931438024"
        ],
        [
         "2000-01-01 00:20:30",
         "983",
         "Alice",
         "0.5007919295074599",
         "-0.3016060746428022"
        ],
        [
         "2000-01-01 00:21:00",
         "999",
         "Charlie",
         "0.8632661403736217",
         "-0.9830486464313559"
        ],
        [
         "2000-01-01 00:21:30",
         "967",
         "Alice",
         "-0.9325270765431091",
         "-0.09589946418926365"
        ],
        [
         "2000-01-01 00:22:00",
         "993",
         "Alice",
         "0.8416522532151129",
         "0.18561709977904406"
        ],
        [
         "2000-01-01 00:22:30",
         "1027",
         "Alice",
         "-0.22969935217239956",
         "-0.6998143272780277"
        ],
        [
         "2000-01-01 00:23:00",
         "975",
         "Bob",
         "0.4249350640537204",
         "0.4330661432618108"
        ],
        [
         "2000-01-01 00:23:30",
         "1024",
         "Bob",
         "-0.26205427255041136",
         "0.9831201701575416"
        ],
        [
         "2000-01-01 00:24:00",
         "993",
         "Charlie",
         "0.8982327222895381",
         "0.387018913708326"
        ],
        [
         "2000-01-01 00:24:30",
         "1005",
         "Alice",
         "-0.3840021332403807",
         "0.8315008197753315"
        ]
       ],
       "shape": {
        "columns": 4,
        "rows": 1051201
       }
      },
      "text/html": [
       "<div>\n",
       "<style scoped>\n",
       "    .dataframe tbody tr th:only-of-type {\n",
       "        vertical-align: middle;\n",
       "    }\n",
       "\n",
       "    .dataframe tbody tr th {\n",
       "        vertical-align: top;\n",
       "    }\n",
       "\n",
       "    .dataframe thead th {\n",
       "        text-align: right;\n",
       "    }\n",
       "</style>\n",
       "<table border=\"1\" class=\"dataframe\">\n",
       "  <thead>\n",
       "    <tr style=\"text-align: right;\">\n",
       "      <th></th>\n",
       "      <th>id</th>\n",
       "      <th>name</th>\n",
       "      <th>x</th>\n",
       "      <th>y</th>\n",
       "    </tr>\n",
       "    <tr>\n",
       "      <th>timestamp</th>\n",
       "      <th></th>\n",
       "      <th></th>\n",
       "      <th></th>\n",
       "      <th></th>\n",
       "    </tr>\n",
       "  </thead>\n",
       "  <tbody>\n",
       "    <tr>\n",
       "      <th>2000-01-01 00:00:00</th>\n",
       "      <td>1041</td>\n",
       "      <td>Alice</td>\n",
       "      <td>0.889987</td>\n",
       "      <td>0.281011</td>\n",
       "    </tr>\n",
       "    <tr>\n",
       "      <th>2000-01-01 00:00:30</th>\n",
       "      <td>988</td>\n",
       "      <td>Bob</td>\n",
       "      <td>-0.455299</td>\n",
       "      <td>0.488153</td>\n",
       "    </tr>\n",
       "    <tr>\n",
       "      <th>2000-01-01 00:01:00</th>\n",
       "      <td>1018</td>\n",
       "      <td>Alice</td>\n",
       "      <td>0.096061</td>\n",
       "      <td>0.580473</td>\n",
       "    </tr>\n",
       "    <tr>\n",
       "      <th>2000-01-01 00:01:30</th>\n",
       "      <td>992</td>\n",
       "      <td>Bob</td>\n",
       "      <td>0.142482</td>\n",
       "      <td>0.041665</td>\n",
       "    </tr>\n",
       "    <tr>\n",
       "      <th>2000-01-01 00:02:00</th>\n",
       "      <td>960</td>\n",
       "      <td>Bob</td>\n",
       "      <td>-0.036235</td>\n",
       "      <td>0.802159</td>\n",
       "    </tr>\n",
       "    <tr>\n",
       "      <th>...</th>\n",
       "      <td>...</td>\n",
       "      <td>...</td>\n",
       "      <td>...</td>\n",
       "      <td>...</td>\n",
       "    </tr>\n",
       "    <tr>\n",
       "      <th>2000-12-30 23:58:00</th>\n",
       "      <td>1022</td>\n",
       "      <td>Alice</td>\n",
       "      <td>0.266191</td>\n",
       "      <td>0.875579</td>\n",
       "    </tr>\n",
       "    <tr>\n",
       "      <th>2000-12-30 23:58:30</th>\n",
       "      <td>974</td>\n",
       "      <td>Alice</td>\n",
       "      <td>-0.009826</td>\n",
       "      <td>0.413686</td>\n",
       "    </tr>\n",
       "    <tr>\n",
       "      <th>2000-12-30 23:59:00</th>\n",
       "      <td>1028</td>\n",
       "      <td>Charlie</td>\n",
       "      <td>0.307108</td>\n",
       "      <td>-0.656789</td>\n",
       "    </tr>\n",
       "    <tr>\n",
       "      <th>2000-12-30 23:59:30</th>\n",
       "      <td>1002</td>\n",
       "      <td>Alice</td>\n",
       "      <td>0.202602</td>\n",
       "      <td>0.541335</td>\n",
       "    </tr>\n",
       "    <tr>\n",
       "      <th>2000-12-31 00:00:00</th>\n",
       "      <td>987</td>\n",
       "      <td>Alice</td>\n",
       "      <td>0.200832</td>\n",
       "      <td>0.615972</td>\n",
       "    </tr>\n",
       "  </tbody>\n",
       "</table>\n",
       "<p>1051201 rows × 4 columns</p>\n",
       "</div>"
      ],
      "text/plain": [
       "                       id     name         x         y\n",
       "timestamp                                             \n",
       "2000-01-01 00:00:00  1041    Alice  0.889987  0.281011\n",
       "2000-01-01 00:00:30   988      Bob -0.455299  0.488153\n",
       "2000-01-01 00:01:00  1018    Alice  0.096061  0.580473\n",
       "2000-01-01 00:01:30   992      Bob  0.142482  0.041665\n",
       "2000-01-01 00:02:00   960      Bob -0.036235  0.802159\n",
       "...                   ...      ...       ...       ...\n",
       "2000-12-30 23:58:00  1022    Alice  0.266191  0.875579\n",
       "2000-12-30 23:58:30   974    Alice -0.009826  0.413686\n",
       "2000-12-30 23:59:00  1028  Charlie  0.307108 -0.656789\n",
       "2000-12-30 23:59:30  1002    Alice  0.202602  0.541335\n",
       "2000-12-31 00:00:00   987    Alice  0.200832  0.615972\n",
       "\n",
       "[1051201 rows x 4 columns]"
      ]
     },
     "execution_count": 3,
     "metadata": {},
     "output_type": "execute_result"
    }
   ],
   "source": [
    "ts"
   ]
  },
  {
   "cell_type": "code",
   "execution_count": 4,
   "metadata": {},
   "outputs": [
    {
     "data": {
      "text/plain": [
       "Index     8409608\n",
       "id        8409608\n",
       "name     56766826\n",
       "x         8409608\n",
       "y         8409608\n",
       "dtype: int64"
      ]
     },
     "execution_count": 4,
     "metadata": {},
     "output_type": "execute_result"
    }
   ],
   "source": [
    "ts.memory_usage(deep=True)"
   ]
  },
  {
   "cell_type": "code",
   "execution_count": 5,
   "metadata": {},
   "outputs": [
    {
     "data": {
      "text/plain": [
       "Index    8409608\n",
       "id       8409608\n",
       "name     1051471\n",
       "x        8409608\n",
       "y        8409608\n",
       "dtype: int64"
      ]
     },
     "execution_count": 5,
     "metadata": {},
     "output_type": "execute_result"
    }
   ],
   "source": [
    "ts2 = ts.copy()\n",
    "\n",
    "ts2[\"name\"] = ts2[\"name\"].astype(\"category\")\n",
    "\n",
    "ts2.memory_usage(deep=True)"
   ]
  },
  {
   "cell_type": "code",
   "execution_count": 6,
   "metadata": {},
   "outputs": [
    {
     "data": {
      "text/plain": [
       "id        uint16\n",
       "name    category\n",
       "x        float32\n",
       "y        float32\n",
       "dtype: object"
      ]
     },
     "execution_count": 6,
     "metadata": {},
     "output_type": "execute_result"
    }
   ],
   "source": [
    "ts2[\"id\"] = pd.to_numeric(ts2[\"id\"], downcast=\"unsigned\")\n",
    "\n",
    "ts2[[\"x\", \"y\"]] = ts2[[\"x\", \"y\"]].apply(pd.to_numeric, downcast=\"float\")\n",
    "\n",
    "ts2.dtypes"
   ]
  },
  {
   "cell_type": "code",
   "execution_count": 7,
   "metadata": {},
   "outputs": [
    {
     "data": {
      "text/plain": [
       "Index    8409608\n",
       "id       2102402\n",
       "name     1051471\n",
       "x        4204804\n",
       "y        4204804\n",
       "dtype: int64"
      ]
     },
     "execution_count": 7,
     "metadata": {},
     "output_type": "execute_result"
    }
   ],
   "source": [
    "ts2.memory_usage(deep=True)"
   ]
  },
  {
   "cell_type": "code",
   "execution_count": 11,
   "metadata": {},
   "outputs": [
    {
     "name": "stdout",
     "output_type": "stream",
     "text": [
      "22.09%\n"
     ]
    }
   ],
   "source": [
    "reduction = ts2.memory_usage(deep=True).sum() / ts.memory_usage(deep=True).sum()\n",
    "\n",
    "print(f\"{reduction*100:0.2f}%\")"
   ]
  },
  {
   "cell_type": "code",
   "execution_count": null,
   "metadata": {},
   "outputs": [],
   "source": []
  }
 ],
 "metadata": {
  "kernelspec": {
   "display_name": "venv",
   "language": "python",
   "name": "python3"
  },
  "language_info": {
   "codemirror_mode": {
    "name": "ipython",
    "version": 3
   },
   "file_extension": ".py",
   "mimetype": "text/x-python",
   "name": "python",
   "nbconvert_exporter": "python",
   "pygments_lexer": "ipython3",
   "version": "3.12.3"
  }
 },
 "nbformat": 4,
 "nbformat_minor": 2
}
