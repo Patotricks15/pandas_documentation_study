{
 "cells": [
  {
   "cell_type": "code",
   "execution_count": 1,
   "metadata": {},
   "outputs": [],
   "source": [
    "import numba\n",
    "import pandas as pd\n",
    "import numpy as np\n",
    "\n",
    "numba.set_num_threads(1)\n",
    "\n",
    "df = pd.DataFrame(np.random.randn(10_000_0, 100))\n",
    "\n",
    "roll = df.rolling(100)"
   ]
  },
  {
   "cell_type": "code",
   "execution_count": 2,
   "metadata": {},
   "outputs": [
    {
     "name": "stderr",
     "output_type": "stream",
     "text": [
      "/home/patrick/pandas_documentation_study/venv/lib/python3.12/site-packages/pandas/core/_numba/executor.py:103: NumbaTypeSafetyWarning: unsafe cast from uint64 to int64. Precision may be lost.\n",
      "  na_positions[i] = np.array(na_pos)\n"
     ]
    },
    {
     "name": "stdout",
     "output_type": "stream",
     "text": [
      "1.14 s ± 95.5 ms per loop (mean ± std. dev. of 7 runs, 1 loop each)\n",
      "421 ms ± 58.5 ms per loop (mean ± std. dev. of 7 runs, 1 loop each)\n"
     ]
    }
   ],
   "source": [
    "numba.set_num_threads(1)\n",
    "%timeit roll.mean(engine=\"numba\", engine_kwargs={\"parallel\": True})\n",
    "\n",
    "numba.set_num_threads(8)\n",
    "%timeit roll.mean(engine=\"numba\", engine_kwargs={\"parallel\": True})"
   ]
  },
  {
   "cell_type": "code",
   "execution_count": null,
   "metadata": {},
   "outputs": [],
   "source": []
  }
 ],
 "metadata": {
  "kernelspec": {
   "display_name": "venv",
   "language": "python",
   "name": "python3"
  },
  "language_info": {
   "codemirror_mode": {
    "name": "ipython",
    "version": 3
   },
   "file_extension": ".py",
   "mimetype": "text/x-python",
   "name": "python",
   "nbconvert_exporter": "python",
   "pygments_lexer": "ipython3",
   "version": "3.12.3"
  }
 },
 "nbformat": 4,
 "nbformat_minor": 2
}
