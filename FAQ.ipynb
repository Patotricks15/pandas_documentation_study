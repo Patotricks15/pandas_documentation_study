{
 "cells": [
  {
   "cell_type": "code",
   "execution_count": 1,
   "metadata": {},
   "outputs": [
    {
     "name": "stdout",
     "output_type": "stream",
     "text": [
      "<class 'pandas.core.frame.DataFrame'>\n",
      "RangeIndex: 5000 entries, 0 to 4999\n",
      "Data columns (total 8 columns):\n",
      " #   Column           Non-Null Count  Dtype          \n",
      "---  ------           --------------  -----          \n",
      " 0   int64            5000 non-null   int64          \n",
      " 1   float64          5000 non-null   float64        \n",
      " 2   datetime64[ns]   5000 non-null   datetime64[ns] \n",
      " 3   timedelta64[ns]  5000 non-null   timedelta64[ns]\n",
      " 4   complex128       5000 non-null   complex128     \n",
      " 5   object           5000 non-null   object         \n",
      " 6   bool             5000 non-null   bool           \n",
      " 7   categorical      5000 non-null   category       \n",
      "dtypes: bool(1), category(1), complex128(1), datetime64[ns](1), float64(1), int64(1), object(1), timedelta64[ns](1)\n",
      "memory usage: 288.2+ KB\n"
     ]
    }
   ],
   "source": [
    "import pandas as pd\n",
    "import numpy as np\n",
    "\n",
    "dtypes = [\n",
    "    \"int64\",\n",
    "    \"float64\",\n",
    "    \"datetime64[ns]\",\n",
    "    \"timedelta64[ns]\",\n",
    "    \"complex128\",\n",
    "    \"object\",\n",
    "    \"bool\",\n",
    "]\n",
    "\n",
    "\n",
    "n = 5000\n",
    "\n",
    "data = {t: np.random.randint(100, size=n).astype(t) for t in dtypes}\n",
    "\n",
    "df = pd.DataFrame(data)\n",
    "\n",
    "df[\"categorical\"] = df[\"object\"].astype(\"category\")\n",
    "\n",
    "df.info()"
   ]
  },
  {
   "cell_type": "code",
   "execution_count": 2,
   "metadata": {},
   "outputs": [
    {
     "name": "stdout",
     "output_type": "stream",
     "text": [
      "<class 'pandas.core.frame.DataFrame'>\n",
      "RangeIndex: 5000 entries, 0 to 4999\n",
      "Data columns (total 8 columns):\n",
      " #   Column           Non-Null Count  Dtype          \n",
      "---  ------           --------------  -----          \n",
      " 0   int64            5000 non-null   int64          \n",
      " 1   float64          5000 non-null   float64        \n",
      " 2   datetime64[ns]   5000 non-null   datetime64[ns] \n",
      " 3   timedelta64[ns]  5000 non-null   timedelta64[ns]\n",
      " 4   complex128       5000 non-null   complex128     \n",
      " 5   object           5000 non-null   object         \n",
      " 6   bool             5000 non-null   bool           \n",
      " 7   categorical      5000 non-null   category       \n",
      "dtypes: bool(1), category(1), complex128(1), datetime64[ns](1), float64(1), int64(1), object(1), timedelta64[ns](1)\n",
      "memory usage: 424.9 KB\n"
     ]
    }
   ],
   "source": [
    "df.info(memory_usage=\"deep\")"
   ]
  },
  {
   "cell_type": "code",
   "execution_count": 5,
   "metadata": {},
   "outputs": [
    {
     "name": "stdout",
     "output_type": "stream",
     "text": [
      "288.18359375\n"
     ]
    }
   ],
   "source": [
    "print(df.memory_usage().sum() / 1024)"
   ]
  },
  {
   "cell_type": "code",
   "execution_count": 6,
   "metadata": {},
   "outputs": [
    {
     "data": {
      "text/plain": [
       "False"
      ]
     },
     "execution_count": 6,
     "metadata": {},
     "output_type": "execute_result"
    }
   ],
   "source": [
    "s = pd.Series(range(5), index=list(\"abcde\"))\n",
    "\n",
    "2 in s"
   ]
  },
  {
   "cell_type": "code",
   "execution_count": 8,
   "metadata": {},
   "outputs": [
    {
     "data": {
      "text/plain": [
       "a    False\n",
       "b    False\n",
       "c     True\n",
       "d    False\n",
       "e    False\n",
       "dtype: bool"
      ]
     },
     "execution_count": 8,
     "metadata": {},
     "output_type": "execute_result"
    }
   ],
   "source": [
    "s.isin([2])"
   ]
  },
  {
   "cell_type": "code",
   "execution_count": 11,
   "metadata": {},
   "outputs": [
    {
     "data": {
      "text/plain": [
       "np.True_"
      ]
     },
     "execution_count": 11,
     "metadata": {},
     "output_type": "execute_result"
    }
   ],
   "source": [
    "s.isin([2]).any()"
   ]
  },
  {
   "cell_type": "code",
   "execution_count": null,
   "metadata": {},
   "outputs": [],
   "source": []
  }
 ],
 "metadata": {
  "kernelspec": {
   "display_name": "venv",
   "language": "python",
   "name": "python3"
  },
  "language_info": {
   "codemirror_mode": {
    "name": "ipython",
    "version": 3
   },
   "file_extension": ".py",
   "mimetype": "text/x-python",
   "name": "python",
   "nbconvert_exporter": "python",
   "pygments_lexer": "ipython3",
   "version": "3.12.3"
  }
 },
 "nbformat": 4,
 "nbformat_minor": 2
}
