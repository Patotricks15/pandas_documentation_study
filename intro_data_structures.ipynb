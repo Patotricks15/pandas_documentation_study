{
 "cells": [
  {
   "cell_type": "markdown",
   "metadata": {},
   "source": [
    "# Intro to data structures"
   ]
  },
  {
   "cell_type": "code",
   "execution_count": 27,
   "metadata": {},
   "outputs": [],
   "source": [
    "import numpy as np\n",
    "import pandas as pd\n",
    "import time\n",
    "import math"
   ]
  },
  {
   "cell_type": "markdown",
   "metadata": {},
   "source": [
    "## Series"
   ]
  },
  {
   "cell_type": "code",
   "execution_count": 6,
   "metadata": {},
   "outputs": [],
   "source": [
    "s = pd.Series([1, 3, 5, np.nan, 6, 8], index=['a', 'b', 'c', 'd', 'e', 'f'])"
   ]
  },
  {
   "cell_type": "code",
   "execution_count": 8,
   "metadata": {},
   "outputs": [
    {
     "data": {
      "text/plain": [
       "dtype('float64')"
      ]
     },
     "execution_count": 8,
     "metadata": {},
     "output_type": "execute_result"
    }
   ],
   "source": [
    "s.dtype"
   ]
  },
  {
   "cell_type": "code",
   "execution_count": 9,
   "metadata": {},
   "outputs": [
    {
     "data": {
      "text/plain": [
       "<NumpyExtensionArray>\n",
       "[np.float64(1.0), np.float64(3.0), np.float64(5.0), np.float64(nan),\n",
       " np.float64(6.0), np.float64(8.0)]\n",
       "Length: 6, dtype: float64"
      ]
     },
     "execution_count": 9,
     "metadata": {},
     "output_type": "execute_result"
    }
   ],
   "source": [
    "s.array"
   ]
  },
  {
   "cell_type": "code",
   "execution_count": 10,
   "metadata": {},
   "outputs": [
    {
     "data": {
      "text/plain": [
       "array([ 1.,  3.,  5., nan,  6.,  8.])"
      ]
     },
     "execution_count": 10,
     "metadata": {},
     "output_type": "execute_result"
    }
   ],
   "source": [
    "s.to_numpy()"
   ]
  },
  {
   "cell_type": "code",
   "execution_count": 12,
   "metadata": {},
   "outputs": [
    {
     "data": {
      "text/plain": [
       "np.float64(1.0)"
      ]
     },
     "execution_count": 12,
     "metadata": {},
     "output_type": "execute_result"
    }
   ],
   "source": [
    "s.get(\"a\", np.nan)"
   ]
  },
  {
   "cell_type": "markdown",
   "metadata": {},
   "source": [
    "## Vectorizing"
   ]
  },
  {
   "cell_type": "markdown",
   "metadata": {},
   "source": [
    "s + s"
   ]
  },
  {
   "cell_type": "code",
   "execution_count": 13,
   "metadata": {},
   "outputs": [
    {
     "data": {
      "text/plain": [
       "a     2.0\n",
       "b     6.0\n",
       "c    10.0\n",
       "d     NaN\n",
       "e    12.0\n",
       "f    16.0\n",
       "dtype: float64"
      ]
     },
     "execution_count": 13,
     "metadata": {},
     "output_type": "execute_result"
    }
   ],
   "source": [
    "s+s"
   ]
  },
  {
   "cell_type": "code",
   "execution_count": 14,
   "metadata": {},
   "outputs": [
    {
     "data": {
      "text/plain": [
       "a      1.0\n",
       "b     27.0\n",
       "c    125.0\n",
       "d      NaN\n",
       "e    216.0\n",
       "f    512.0\n",
       "dtype: float64"
      ]
     },
     "execution_count": 14,
     "metadata": {},
     "output_type": "execute_result"
    }
   ],
   "source": [
    "s ** 3"
   ]
  },
  {
   "cell_type": "code",
   "execution_count": 15,
   "metadata": {},
   "outputs": [
    {
     "data": {
      "text/plain": [
       "'something'"
      ]
     },
     "execution_count": 15,
     "metadata": {},
     "output_type": "execute_result"
    }
   ],
   "source": [
    "s = pd.Series(np.random.randn(5), name=\"something\")\n",
    "s.name"
   ]
  },
  {
   "cell_type": "markdown",
   "metadata": {},
   "source": [
    "## Datafames"
   ]
  },
  {
   "cell_type": "code",
   "execution_count": 16,
   "metadata": {},
   "outputs": [],
   "source": [
    "d = {\n",
    "    \"one\": pd.Series([1.0, 2.0, 3.0], index=[\"a\", \"b\", \"c\"]),\n",
    "    \"two\": pd.Series([1.0, 2.0, 3.0, 4.0], index=[\"a\", \"b\", \"c\", \"d\"]),\n",
    "}\n",
    "\n",
    "\n",
    "df = pd.DataFrame(d)"
   ]
  },
  {
   "cell_type": "code",
   "execution_count": 17,
   "metadata": {},
   "outputs": [
    {
     "data": {
      "text/html": [
       "<div>\n",
       "<style scoped>\n",
       "    .dataframe tbody tr th:only-of-type {\n",
       "        vertical-align: middle;\n",
       "    }\n",
       "\n",
       "    .dataframe tbody tr th {\n",
       "        vertical-align: top;\n",
       "    }\n",
       "\n",
       "    .dataframe thead th {\n",
       "        text-align: right;\n",
       "    }\n",
       "</style>\n",
       "<table border=\"1\" class=\"dataframe\">\n",
       "  <thead>\n",
       "    <tr style=\"text-align: right;\">\n",
       "      <th></th>\n",
       "      <th>A</th>\n",
       "      <th>B</th>\n",
       "    </tr>\n",
       "  </thead>\n",
       "  <tbody>\n",
       "    <tr>\n",
       "      <th>0</th>\n",
       "      <td>1</td>\n",
       "      <td>4</td>\n",
       "    </tr>\n",
       "    <tr>\n",
       "      <th>1</th>\n",
       "      <td>2</td>\n",
       "      <td>5</td>\n",
       "    </tr>\n",
       "    <tr>\n",
       "      <th>2</th>\n",
       "      <td>3</td>\n",
       "      <td>6</td>\n",
       "    </tr>\n",
       "  </tbody>\n",
       "</table>\n",
       "</div>"
      ],
      "text/plain": [
       "   A  B\n",
       "0  1  4\n",
       "1  2  5\n",
       "2  3  6"
      ]
     },
     "execution_count": 17,
     "metadata": {},
     "output_type": "execute_result"
    }
   ],
   "source": [
    "pd.DataFrame.from_dict(dict([(\"A\", [1, 2, 3]), (\"B\", [4, 5, 6])]))"
   ]
  },
  {
   "cell_type": "code",
   "execution_count": 18,
   "metadata": {},
   "outputs": [
    {
     "data": {
      "text/html": [
       "<div>\n",
       "<style scoped>\n",
       "    .dataframe tbody tr th:only-of-type {\n",
       "        vertical-align: middle;\n",
       "    }\n",
       "\n",
       "    .dataframe tbody tr th {\n",
       "        vertical-align: top;\n",
       "    }\n",
       "\n",
       "    .dataframe thead th {\n",
       "        text-align: right;\n",
       "    }\n",
       "</style>\n",
       "<table border=\"1\" class=\"dataframe\">\n",
       "  <thead>\n",
       "    <tr style=\"text-align: right;\">\n",
       "      <th></th>\n",
       "      <th>0</th>\n",
       "      <th>1</th>\n",
       "      <th>2</th>\n",
       "    </tr>\n",
       "  </thead>\n",
       "  <tbody>\n",
       "    <tr>\n",
       "      <th>A</th>\n",
       "      <td>1</td>\n",
       "      <td>2</td>\n",
       "      <td>3</td>\n",
       "    </tr>\n",
       "    <tr>\n",
       "      <th>B</th>\n",
       "      <td>4</td>\n",
       "      <td>5</td>\n",
       "      <td>6</td>\n",
       "    </tr>\n",
       "  </tbody>\n",
       "</table>\n",
       "</div>"
      ],
      "text/plain": [
       "   0  1  2\n",
       "A  1  2  3\n",
       "B  4  5  6"
      ]
     },
     "execution_count": 18,
     "metadata": {},
     "output_type": "execute_result"
    }
   ],
   "source": [
    "pd.DataFrame.from_dict(dict([(\"A\", [1, 2, 3]), (\"B\", [4, 5, 6])]), orient='index')"
   ]
  },
  {
   "cell_type": "markdown",
   "metadata": {},
   "source": [
    "### Assign"
   ]
  },
  {
   "cell_type": "code",
   "execution_count": 19,
   "metadata": {},
   "outputs": [
    {
     "name": "stdout",
     "output_type": "stream",
     "text": [
      "          a         b         c  new_column  another_column\n",
      "0  0.815959  0.789534  0.083381    1.605493        0.166762\n",
      "1  0.220591  0.913380  0.119860    1.133971        0.239719\n",
      "2  0.503974  0.354909  0.194086    0.858883        0.388172\n",
      "3  0.987659  0.438210  0.316668    1.425869        0.633336\n",
      "4  0.325342  0.510591  0.311661    0.835934        0.623322\n",
      "5  0.455779  0.039334  0.540863    0.495113        1.081726\n",
      "6  0.301972  0.290723  0.206702    0.592695        0.413404\n",
      "7  0.196111  0.275351  0.194808    0.471463        0.389616\n",
      "8  0.201214  0.258102  0.538218    0.459316        1.076435\n",
      "9  0.694826  0.360002  0.489759    1.054828        0.979518\n"
     ]
    }
   ],
   "source": [
    "# Create a DataFrame with random values\n",
    "df = pd.DataFrame(np.random.rand(10, 3), columns=['a', 'b', 'c'])\n",
    "\n",
    "# Use .assign() to create new columns\n",
    "df_new = (\n",
    "    df\n",
    "    .assign(\n",
    "        new_column = df['a'] + df['b'],\n",
    "        another_column = lambda x: x['c'] * 2\n",
    "    )\n",
    ")\n",
    "\n",
    "print(df_new)"
   ]
  },
  {
   "cell_type": "markdown",
   "metadata": {},
   "source": [
    "### Advantage of using .assign() instead direct assignment"
   ]
  },
  {
   "cell_type": "markdown",
   "metadata": {},
   "source": [
    "The main advantage of using .assign() in pandas over directly assigning a new column with df['new_column'] = df['a'] + df['b'] is that .assign() allows for **clean and functional chaining of operations**, returning a new DataFrame **without modifying** the original one. Here are some benefits:\n",
    "\n",
    "- **Immutability:** Using .assign() ensures that the original DataFrame remains unchanged, which helps avoid unintended side effects.\n",
    "\n",
    "- **Chaining:** It makes it easier to build a pipeline of transformations, leading to more readable and organized code.\n",
    "\n",
    "- **Multiple Columns:** You can create multiple columns in a single call, which can make your code more concise."
   ]
  },
  {
   "cell_type": "code",
   "execution_count": 39,
   "metadata": {},
   "outputs": [
    {
     "name": "stdout",
     "output_type": "stream",
     "text": [
      "          a         b         c  new_column  another_column\n",
      "0  0.647061  0.707687  0.609734    1.354748        1.219467\n",
      "1  0.272986  0.270612  0.952313    0.543598        1.904626\n",
      "2  0.909359  0.694084  0.546607    1.603442        1.093214\n",
      "3  0.663067  0.056012  0.637765    0.719079        1.275531\n",
      "4  0.591930  0.593451  0.749606    1.185382        1.499212\n",
      "5  0.130057  0.809858  0.073296    0.939915        0.146592\n",
      "6  0.976192  0.453902  0.636216    1.430094        1.272432\n",
      "7  0.951737  0.021167  0.323400    0.972905        0.646801\n",
      "8  0.281993  0.091625  0.375010    0.373619        0.750020\n",
      "9  0.150728  0.080310  0.731202    0.231038        1.462404\n"
     ]
    }
   ],
   "source": [
    "# Create a DataFrame with random values\n",
    "df = pd.DataFrame(np.random.rand(10, 3), columns=['a', 'b', 'c'])\n",
    "\n",
    "# Use .assign() to create new columns\n",
    "df_new = (\n",
    "    df\n",
    "    .assign(\n",
    "        new_column = df['a'] + df['b'],\n",
    "        another_column = lambda x: x['c'] * 2\n",
    "    )\n",
    ")\n",
    "\n",
    "print(df_new)"
   ]
  },
  {
   "cell_type": "markdown",
   "metadata": {},
   "source": [
    "### Numpy universal functions in pandas dataframe"
   ]
  },
  {
   "cell_type": "markdown",
   "metadata": {},
   "source": [
    "Using NumPy's *ufuncs* (universal functions) in Pandas DataFrames offers several key advantages over using Python’s built-in math library or manually looping through data:\n",
    "\n",
    "- **Performance:**\n",
    "\n",
    "    - **Vectorization: Ufuncs are vectorized, meaning they operate on entire arrays at once rather than element by element. This leverages highly optimized C code, resulting in significant speed improvements compared to using scalar operations (e.g., those from the math module) inside Python loops.\n",
    "Optimized Operations: Since these functions are implemented in C and optimized for performance, they execute operations much faster than manually iterating over each element in Python.\n",
    "\n",
    "    - **Broadcasting:** Ufuncs support broadcasting, which means they can automatically handle operations between arrays of different shapes, applying the operation element-wise without the need for explicit loops or reshaping.\n",
    "\n",
    "- **Seamless Integration with Pandas:**\n",
    "\n",
    "    - **Automatic Alignment:** When you apply NumPy ufuncs to Pandas objects like Series or DataFrames, Pandas automatically aligns the data based on the index labels. This ensures that operations are performed on matching labels, even if the original order differs.\n",
    "Element-wise Operations: They work directly on the underlying NumPy arrays, making it easy to perform element-wise computations across large datasets."
   ]
  },
  {
   "cell_type": "code",
   "execution_count": 35,
   "metadata": {},
   "outputs": [
    {
     "name": "stdout",
     "output_type": "stream",
     "text": [
      "Time using vectorized np.sin: 0.018065929412841797 seconds\n",
      "Time using apply with math.sin: 0.22726941108703613 seconds\n"
     ]
    }
   ],
   "source": [
    "# Create a DataFrame with 1 million rows and one column 'x'\n",
    "df = pd.DataFrame({'x': np.linspace(0, 10, 1000000)})\n",
    "\n",
    "# 1. Using vectorized np.sin function\n",
    "start = time.time()\n",
    "df['sin_vectorized'] = np.sin(df['x'])\n",
    "time_vectorized = time.time() - start\n",
    "print(\"Time using vectorized np.sin:\", time_vectorized, \"seconds\")\n",
    "\n",
    "# 2. Using apply with math.sin (processing element by element)\n",
    "start = time.time()\n",
    "df['sin_loop'] = df['x'].apply(math.sin)\n",
    "time_loop = time.time() - start\n",
    "print(\"Time using apply with math.sin:\", time_loop, \"seconds\")"
   ]
  },
  {
   "cell_type": "code",
   "execution_count": 38,
   "metadata": {},
   "outputs": [
    {
     "name": "stdout",
     "output_type": "stream",
     "text": [
      "Time using vectorized addition (operator +): 0.0036292076110839844 seconds\n",
      "Time using np.add: 0.004775285720825195 seconds\n",
      "Time using apply with lambda: 11.774370193481445 seconds\n"
     ]
    }
   ],
   "source": [
    "# Create a DataFrame with 1 million rows and two columns\n",
    "df2 = pd.DataFrame({\n",
    "    'a': np.random.rand(1000000),\n",
    "    'b': np.random.rand(1000000)\n",
    "})\n",
    "\n",
    "# 1. Using vectorized addition with the + operator\n",
    "start = time.time()\n",
    "df2['sum_vectorized'] = df2['a'] + df2['b']\n",
    "time_vectorized = time.time() - start\n",
    "print(\"Time using vectorized addition (operator +):\", time_vectorized, \"seconds\")\n",
    "\n",
    "# 2. Using np.add (NumPy's ufunc)\n",
    "start = time.time()\n",
    "df2['sum_np_add'] = np.add(df2['a'], df2['b'])\n",
    "time_np_add = time.time() - start\n",
    "print(\"Time using np.add:\", time_np_add, \"seconds\")\n",
    "\n",
    "# 3. Using apply with a lambda function (row-by-row processing)\n",
    "start = time.time()\n",
    "df2['sum_loop'] = df2.apply(lambda row: row['a'] + row['b'], axis=1)\n",
    "time_loop = time.time() - start\n",
    "print(\"Time using apply with lambda:\", time_loop, \"seconds\")\n"
   ]
  }
 ],
 "metadata": {
  "kernelspec": {
   "display_name": "venv",
   "language": "python",
   "name": "python3"
  },
  "language_info": {
   "codemirror_mode": {
    "name": "ipython",
    "version": 3
   },
   "file_extension": ".py",
   "mimetype": "text/x-python",
   "name": "python",
   "nbconvert_exporter": "python",
   "pygments_lexer": "ipython3",
   "version": "3.12.3"
  }
 },
 "nbformat": 4,
 "nbformat_minor": 2
}
